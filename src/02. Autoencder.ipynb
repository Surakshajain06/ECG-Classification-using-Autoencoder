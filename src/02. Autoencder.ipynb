{
 "cells": [
  {
   "cell_type": "markdown",
   "id": "ff8bb3dc",
   "metadata": {},
   "source": [
    "Import Dependencies"
   ]
  },
  {
   "cell_type": "code",
   "execution_count": 1,
   "id": "4cf3e9a6",
   "metadata": {},
   "outputs": [],
   "source": [
    "import torch\n",
    "import torch.nn as nn\n",
    "import torch.optim as optim\n",
    "from torch.utils.data import DataLoader, TensorDataset\n",
    "import numpy as np\n",
    "from sklearn.preprocessing import LabelEncoder\n"
   ]
  },
  {
   "cell_type": "markdown",
   "id": "af48817e",
   "metadata": {},
   "source": [
    "Load the saved data"
   ]
  },
  {
   "cell_type": "code",
   "execution_count": 2,
   "id": "a8ab311c",
   "metadata": {},
   "outputs": [],
   "source": [
    "data = np.load('Preprocessed_data/ecg_data.npz')\n",
    "beats = data['beats']     # shape: (num_beats, 90, 1)\n",
    "labels = data['labels']   # shape: (num_beats,)"
   ]
  },
  {
   "cell_type": "markdown",
   "id": "b3ed22d3",
   "metadata": {},
   "source": [
    "Prepare your ECG beats(in .npz) as PyTorch Dataset"
   ]
  },
  {
   "cell_type": "code",
   "execution_count": 3,
   "id": "c4bb0c90",
   "metadata": {},
   "outputs": [],
   "source": [
    "# Encode string labels to integers\n",
    "le = LabelEncoder()\n",
    "labels_encoded = le.fit_transform(labels)  # numpy array of integers\n",
    "# Convert numpy arrays to torch tensors\n",
    "beats_tensor = torch.tensor(beats, dtype=torch.float32)   # (num_beats, 90, 1)\n",
    "labels_tensor = torch.tensor(labels_encoded, dtype=torch.long)\n",
    "  # labels as integers or strings? We'll encode later\n",
    "\n",
    "# Transpose to (num_beats, channels, length) = (N, 1, 90)\n",
    "beats_tensor = beats_tensor.permute(0, 2, 1)\n",
    "\n",
    "# Create dataset and dataloader for training\n",
    "dataset = TensorDataset(beats_tensor, beats_tensor)  # For autoencoder input = output\n",
    "dataloader = DataLoader(dataset, batch_size=128, shuffle=True)"
   ]
  },
  {
   "cell_type": "markdown",
   "id": "c3f8476b",
   "metadata": {},
   "source": [
    "Autoencoder Model"
   ]
  },
  {
   "cell_type": "code",
   "execution_count": 4,
   "id": "6e2fbac0",
   "metadata": {},
   "outputs": [],
   "source": [
    "class ECGAutoencoder(nn.Module):\n",
    "    def __init__(self):\n",
    "        super(ECGAutoencoder, self).__init__()\n",
    "        # Encoder\n",
    "        self.encoder = nn.Sequential(\n",
    "            nn.Conv1d(1, 16, kernel_size=3, stride=2, padding=1),  # (N,16,45)\n",
    "            nn.ReLU(),\n",
    "            nn.Conv1d(16, 32, kernel_size=3, stride=2, padding=1),  # (N,32,23)\n",
    "            nn.ReLU(),\n",
    "            nn.Conv1d(32, 64, kernel_size=3, stride=2, padding=1),  # (N,64,12)\n",
    "            nn.ReLU(),\n",
    "        )\n",
    "        \n",
    "        # Decoder\n",
    "        self.decoder = nn.Sequential(\n",
    "            nn.ConvTranspose1d(64, 32, kernel_size=3, stride=2, padding=1, output_padding=1),  # (N,32,23)\n",
    "            nn.ReLU(),\n",
    "            nn.ConvTranspose1d(32, 16, kernel_size=3, stride=2, padding=1, output_padding=1),  # (N,16,45)\n",
    "            nn.ReLU(),\n",
    "            nn.ConvTranspose1d(16, 1, kernel_size=4, stride=2, padding=1, output_padding=0),   # (N,1,90)\n",
    "            nn.Sigmoid()  # input normalized 0-1, output sigmoid for reconstruction\n",
    "        )\n",
    "        \n",
    "    def forward(self, x):\n",
    "        encoded = self.encoder(x)\n",
    "        decoded = self.decoder(encoded)\n",
    "        return decoded[:, :, :x.size(2)]  # force match length\n",
    "\n",
    "\n",
    "# Instantiate model\n",
    "model = ECGAutoencoder()\n",
    "\n",
    "# Loss and optimizer\n",
    "criterion = nn.MSELoss()  # Reconstruction loss\n",
    "optimizer = optim.Adam(model.parameters(), lr=0.001)"
   ]
  },
  {
   "cell_type": "markdown",
   "id": "41b7d78a",
   "metadata": {},
   "source": [
    "Training the Autoencoder"
   ]
  },
  {
   "cell_type": "code",
   "execution_count": 5,
   "id": "4ee296cd",
   "metadata": {},
   "outputs": [
    {
     "name": "stdout",
     "output_type": "stream",
     "text": [
      "Epoch [1/20], Loss: 0.007184\n",
      "Epoch [2/20], Loss: 0.000251\n",
      "Epoch [3/20], Loss: 0.000156\n",
      "Epoch [4/20], Loss: 0.000115\n",
      "Epoch [5/20], Loss: 0.000095\n",
      "Epoch [6/20], Loss: 0.000082\n",
      "Epoch [7/20], Loss: 0.000074\n",
      "Epoch [8/20], Loss: 0.000069\n",
      "Epoch [9/20], Loss: 0.000063\n",
      "Epoch [10/20], Loss: 0.000060\n",
      "Epoch [11/20], Loss: 0.000056\n",
      "Epoch [12/20], Loss: 0.000052\n",
      "Epoch [13/20], Loss: 0.000049\n",
      "Epoch [14/20], Loss: 0.000048\n",
      "Epoch [15/20], Loss: 0.000045\n",
      "Epoch [16/20], Loss: 0.000043\n",
      "Epoch [17/20], Loss: 0.000040\n",
      "Epoch [18/20], Loss: 0.000039\n",
      "Epoch [19/20], Loss: 0.000039\n",
      "Epoch [20/20], Loss: 0.000038\n"
     ]
    }
   ],
   "source": [
    "# Device config (use GPU if available)\n",
    "device = torch.device(\"cuda\" if torch.cuda.is_available() else \"cpu\")\n",
    "\n",
    "# Instantiate the model and move to device\n",
    "model = ECGAutoencoder().to(device)\n",
    "\n",
    "# Loss function & optimizer\n",
    "criterion = nn.MSELoss()  # Mean Squared Error for reconstruction\n",
    "optimizer = optim.Adam(model.parameters(), lr=0.001)\n",
    "\n",
    "# Training loop\n",
    "num_epochs = 20\n",
    "for epoch in range(num_epochs):\n",
    "    model.train()\n",
    "    running_loss = 0.0\n",
    "    \n",
    "    for inputs, _ in dataloader:  # targets are same as inputs in autoencoder\n",
    "        inputs = inputs.to(device)\n",
    "        \n",
    "        optimizer.zero_grad()\n",
    "        outputs = model(inputs)\n",
    "        loss = criterion(outputs, inputs)  # Compare reconstruction to original\n",
    "        loss.backward()\n",
    "        optimizer.step()\n",
    "        \n",
    "        running_loss += loss.item() * inputs.size(0)\n",
    "    \n",
    "    epoch_loss = running_loss / len(dataset)\n",
    "    print(f\"Epoch [{epoch+1}/{num_epochs}], Loss: {epoch_loss:.6f}\")\n"
   ]
  },
  {
   "cell_type": "markdown",
   "id": "33552b20",
   "metadata": {},
   "source": [
    "Extract Latent Features for Classification"
   ]
  },
  {
   "cell_type": "code",
   "execution_count": 6,
   "id": "bb318d6a",
   "metadata": {},
   "outputs": [
    {
     "name": "stdout",
     "output_type": "stream",
     "text": [
      "Latent features shape: torch.Size([109487, 768])\n"
     ]
    }
   ],
   "source": [
    "model.eval()\n",
    "\n",
    "all_latent = []\n",
    "with torch.no_grad():\n",
    "    for inputs, _ in DataLoader(dataset, batch_size=128):\n",
    "        inputs = inputs.to(device)\n",
    "        \n",
    "        # Pass inputs through encoder part of model\n",
    "        encoded = model.encoder(inputs)  # shape: (batch_size, 64, 12)\n",
    "        \n",
    "        # Flatten encoded output to (batch_size, channels * length)\n",
    "        encoded_flat = encoded.view(encoded.size(0), -1)\n",
    "        \n",
    "        # Move to CPU and collect\n",
    "        all_latent.append(encoded_flat.cpu())\n",
    "\n",
    "# Concatenate all batches to get full latent feature set\n",
    "latent_features = torch.cat(all_latent, dim=0)\n",
    "print(\"Latent features shape:\", latent_features.shape)  # Expected: (num_samples, 64*12=768)\n"
   ]
  },
  {
   "cell_type": "markdown",
   "id": "8eedb868",
   "metadata": {},
   "source": [
    "Save latent features as .npz"
   ]
  },
  {
   "cell_type": "code",
   "execution_count": 7,
   "id": "8d83121f",
   "metadata": {},
   "outputs": [
    {
     "name": "stdout",
     "output_type": "stream",
     "text": [
      "Saved latent features to Preprocessed_data/ecg_latent_features.npz\n"
     ]
    }
   ],
   "source": [
    "import numpy as np\n",
    "\n",
    "latent_np = latent_features.numpy()\n",
    "np.savez_compressed('Preprocessed_data/ecg_latent_features.npz', features=latent_np)\n",
    "print(\"Saved latent features to Preprocessed_data/ecg_latent_features.npz\")\n"
   ]
  }
 ],
 "metadata": {
  "kernelspec": {
   "display_name": "Python 3",
   "language": "python",
   "name": "python3"
  },
  "language_info": {
   "codemirror_mode": {
    "name": "ipython",
    "version": 3
   },
   "file_extension": ".py",
   "mimetype": "text/x-python",
   "name": "python",
   "nbconvert_exporter": "python",
   "pygments_lexer": "ipython3",
   "version": "3.13.6"
  }
 },
 "nbformat": 4,
 "nbformat_minor": 5
}
