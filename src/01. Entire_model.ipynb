{
 "cells": [
  {
   "cell_type": "markdown",
   "id": "eae29bdd",
   "metadata": {},
   "source": [
    " Configuration & Setup"
   ]
  },
  {
   "cell_type": "code",
   "execution_count": 1,
   "id": "87adfa8d",
   "metadata": {},
   "outputs": [],
   "source": [
    "import os\n",
    "import numpy as np\n",
    "import wfdb\n",
    "\n",
    "# --- Configuration ---\n",
    "DATA_DIR = \"../Data\"\n",
    "SAVE_DIR = \"Preprocessed_data\"\n",
    "os.makedirs(SAVE_DIR, exist_ok=True)\n",
    "\n",
    "RECORDS = [\n",
    "    '100', '101', '102', '103', '104', '105', '106', '107',\n",
    "    '108', '109', '111', '112', '113', '114', '115', '116',\n",
    "    '117', '118', '119', '121', '122', '123', '124', '200',\n",
    "    '201', '202', '203', '205', '207', '208', '209', '210',\n",
    "    '212', '213', '214', '215', '217', '219', '220', '221',\n",
    "    '222', '223', '228', '230', '231', '232', '233', '234'\n",
    "]\n",
    "\n",
    "BEAT_WINDOW = 90  # samples per beat (centered around R-peak)\n"
   ]
  },
  {
   "cell_type": "markdown",
   "id": "9edf555b",
   "metadata": {},
   "source": [
    "Loading Records & Extracting R-peaks"
   ]
  },
  {
   "cell_type": "code",
   "execution_count": 2,
   "id": "9e2410cc",
   "metadata": {},
   "outputs": [],
   "source": [
    "# Storage for beats and labels\n",
    "beats = []\n",
    "labels = []\n",
    "\n",
    "for rec in RECORDS:\n",
    "    record_path = os.path.join(DATA_DIR, rec)\n",
    "\n",
    "    # Load ECG signal and annotation\n",
    "    sig = wfdb.rdrecord(record_path)\n",
    "    ann = wfdb.rdann(record_path, 'atr')\n",
    "\n",
    "    # Use the first channel (MLII)\n",
    "    ecg = sig.p_signal[:, 0]\n",
    "    r_peaks = ann.sample  # R-peak positions\n",
    "    symbols = ann.symbol  # Beat types\n",
    "\n",
    "    # Loop over each R-peak and extract a centered window\n",
    "    for idx, r in enumerate(r_peaks):\n",
    "        start = r - BEAT_WINDOW // 2\n",
    "        end = r + BEAT_WINDOW // 2\n",
    "\n",
    "        # Skip if the window goes out of bounds\n",
    "        if start < 0 or end > len(ecg):\n",
    "            continue\n",
    "\n",
    "        beats.append(ecg[start:end])\n",
    "        labels.append(symbols[idx])\n"
   ]
  },
  {
   "cell_type": "markdown",
   "id": "d8aeb4a2",
   "metadata": {},
   "source": [
    "Mapping Beat Types to AAMI Classes"
   ]
  },
  {
   "cell_type": "code",
   "execution_count": 3,
   "id": "cf7fe8e4",
   "metadata": {},
   "outputs": [
    {
     "name": "stdout",
     "output_type": "stream",
     "text": [
      "Extracted beats shape: (109487, 90)\n",
      "Unique labels after mapping: ['F' 'N' 'Q' 'S' 'V']\n"
     ]
    }
   ],
   "source": [
    "# --- AAMI EC57 beat mapping ---\n",
    "aami_map = {\n",
    "    # N class\n",
    "    'N': 'N', 'L': 'N', 'R': 'N', 'e': 'N', 'j': 'N',\n",
    "    # S class\n",
    "    'A': 'S', 'a': 'S', 'J': 'S', 'S': 'S',\n",
    "    # V class\n",
    "    'V': 'V', 'E': 'V',\n",
    "    # F class\n",
    "    'F': 'F',\n",
    "    # Q class\n",
    "    '/': 'Q', 'f': 'Q', 'Q': 'Q'\n",
    "}\n",
    "\n",
    "# Apply mapping & filter unknown types\n",
    "mapped_beats = []\n",
    "mapped_labels = []\n",
    "for beat, sym in zip(beats, labels):\n",
    "    if sym in aami_map:  # keep only mapped symbols\n",
    "        mapped_beats.append(beat)\n",
    "        mapped_labels.append(aami_map[sym])\n",
    "\n",
    "beats = np.array(mapped_beats)\n",
    "labels = np.array(mapped_labels)\n",
    "\n",
    "print(\"Extracted beats shape:\", beats.shape)\n",
    "print(\"Unique labels after mapping:\", np.unique(labels))\n"
   ]
  },
  {
   "cell_type": "markdown",
   "id": "d3bf1515",
   "metadata": {},
   "source": [
    "Cleaning & Normalization"
   ]
  },
  {
   "cell_type": "code",
   "execution_count": 4,
   "id": "abdd0d05",
   "metadata": {},
   "outputs": [
    {
     "name": "stdout",
     "output_type": "stream",
     "text": [
      "After normalization: min = 0.000 , max = 1.000\n",
      "Final beats shape: (109487, 90, 1)\n"
     ]
    }
   ],
   "source": [
    "import numpy as np\n",
    "\n",
    "# beats: shape (num_beats, beat_length)\n",
    "\n",
    "beats_normalized = []\n",
    "for beat in beats:\n",
    "    min_val = np.min(beat)\n",
    "    max_val = np.max(beat)\n",
    "    range_val = max_val - min_val\n",
    "    \n",
    "    if range_val == 0:\n",
    "        # flat signal - set everything to 0\n",
    "        normalized = np.zeros_like(beat)\n",
    "    else:\n",
    "        normalized = (beat - min_val) / range_val\n",
    "    \n",
    "    beats_normalized.append(normalized)\n",
    "\n",
    "beats = np.array(beats_normalized, dtype=np.float32)\n",
    "\n",
    "# Add channel dimension for Conv1D: (num_beats, beat_length, 1)\n",
    "beats = np.expand_dims(beats, axis=-1)\n",
    "\n",
    "print(f\"After normalization: min = {beats.min():.3f} , max = {beats.max():.3f}\")\n",
    "print(f\"Final beats shape: {beats.shape}\")\n"
   ]
  },
  {
   "cell_type": "markdown",
   "id": "3fa5f1a3",
   "metadata": {},
   "source": [
    "Final Model-Ready Data"
   ]
  },
  {
   "cell_type": "markdown",
   "id": "ba517555",
   "metadata": {},
   "source": [
    "save the beats "
   ]
  },
  {
   "cell_type": "code",
   "execution_count": 5,
   "id": "2c219ad0",
   "metadata": {},
   "outputs": [
    {
     "name": "stdout",
     "output_type": "stream",
     "text": [
      "Preprocessed data saved to: Preprocessed_data\\ecg_data.npz\n",
      "Saved beats shape: (109487, 90, 1), labels shape: (109487,)\n"
     ]
    }
   ],
   "source": [
    "# --- Save ONLY preprocessed data ---\n",
    "np.savez(\n",
    "    os.path.join(SAVE_DIR, \"ecg_data.npz\"),\n",
    "    beats=beats,   \n",
    "    labels=labels    \n",
    ")\n",
    "\n",
    "print(f\"Preprocessed data saved to: {os.path.join(SAVE_DIR, 'ecg_data.npz')}\")\n",
    "print(f\"Saved beats shape: {beats.shape}, labels shape: {labels.shape}\")\n"
   ]
  },
  {
   "cell_type": "markdown",
   "id": "fdff037d",
   "metadata": {},
   "source": [
    "check the saved data from the .npz file"
   ]
  },
  {
   "cell_type": "code",
   "execution_count": 6,
   "id": "f2992999",
   "metadata": {},
   "outputs": [
    {
     "name": "stdout",
     "output_type": "stream",
     "text": [
      "['beats', 'labels']\n",
      "Beats shape: (109487, 90, 1)\n",
      "Labels shape: (109487,)\n",
      "Unique labels: ['F' 'N' 'Q' 'S' 'V']\n",
      "Sample beat data (first beat): [0.17674063 0.16985463 0.15837796 0.15837796 0.15837796 0.16602908\n",
      " 0.17291507 0.16602908 0.15837796 0.1469013 ]\n",
      "Sample label (first beat): N\n"
     ]
    }
   ],
   "source": [
    "import numpy as np\n",
    "\n",
    "data = np.load(\"Preprocessed_data/ecg_data.npz\")\n",
    "print(data.files)  # Lists keys saved inside the file, should print ['beats', 'labels']\n",
    "\n",
    "beats = data['beats']\n",
    "labels = data['labels']\n",
    "\n",
    "print(\"Beats shape:\", beats.shape)\n",
    "print(\"Labels shape:\", labels.shape)\n",
    "print(\"Unique labels:\", np.unique(labels))\n",
    "print(\"Sample beat data (first beat):\", beats[0].flatten()[:10])  # print first 10 values of first beat\n",
    "print(\"Sample label (first beat):\", labels[0])\n"
   ]
  }
 ],
 "metadata": {
  "kernelspec": {
   "display_name": "Python 3",
   "language": "python",
   "name": "python3"
  },
  "language_info": {
   "codemirror_mode": {
    "name": "ipython",
    "version": 3
   },
   "file_extension": ".py",
   "mimetype": "text/x-python",
   "name": "python",
   "nbconvert_exporter": "python",
   "pygments_lexer": "ipython3",
   "version": "3.13.6"
  }
 },
 "nbformat": 4,
 "nbformat_minor": 5
}
