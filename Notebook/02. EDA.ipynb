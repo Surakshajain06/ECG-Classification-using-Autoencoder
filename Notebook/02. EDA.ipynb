{
 "cells": [
  {
   "cell_type": "markdown",
   "id": "f7fda5d3",
   "metadata": {},
   "source": [
    "Load All Records"
   ]
  },
  {
   "cell_type": "code",
   "execution_count": null,
   "id": "7498fbcc",
   "metadata": {},
   "outputs": [
    {
     "name": "stdout",
     "output_type": "stream",
     "text": [
      "Loaded 100\n",
      "Loaded 101\n",
      "Loaded 102\n",
      "Loaded 103\n",
      "Loaded 104\n",
      "Loaded 105\n",
      "Loaded 106\n",
      "Loaded 107\n",
      "Loaded 108\n",
      "Loaded 109\n",
      "    ID  Sampling Rate (Hz)  Total Samples  Channels  Beats Detected\n",
      "0  100                 360         650000         2            2274\n",
      "1  101                 360         650000         2            1874\n",
      "2  102                 360         650000         2            2192\n",
      "3  103                 360         650000         2            2091\n",
      "4  104                 360         650000         2            2311\n",
      "5  105                 360         650000         2            2691\n",
      "6  106                 360         650000         2            2098\n",
      "7  107                 360         650000         2            2140\n",
      "8  108                 360         650000         2            1824\n",
      "9  109                 360         650000         2            2535\n"
     ]
    }
   ],
   "source": [
    "import wfdb\n",
    "import pandas as pd\n",
    "\n",
    "record_ids = [\n",
    "    '100', '101', '102', '103', '104', '105', '106', '107',\n",
    "    '108', '109'  # Add more if available\n",
    "]\n",
    "\n",
    "all_records = []\n",
    "\n",
    "for record_id in record_ids:\n",
    "    try:\n",
    "        record = wfdb.rdrecord(f\"../Data/{record_id}\")\n",
    "        annotation = wfdb.rdann(f\"../Data/{record_id}\", 'atr')\n",
    "        all_records.append({\n",
    "            \"record_id\": record_id,\n",
    "            \"fs\": record.fs,\n",
    "            \"n_samples\": record.sig_len,\n",
    "            \"n_channels\": record.n_sig,\n",
    "            \"annotations\": annotation.sample\n",
    "        })\n",
    "        print(f\"Loaded {record_id}\")\n",
    "    except Exception as e:\n",
    "        print(f\"Error loading {record_id}: {e}\")\n",
    "\n",
    "# Create summary DataFrame\n",
    "summary = []\n",
    "\n",
    "for rec in all_records:\n",
    "    summary.append({\n",
    "        \"ID\": rec[\"record_id\"],\n",
    "        \"Sampling Rate (Hz)\": rec[\"fs\"],\n",
    "        \"Total Samples\": rec[\"n_samples\"],\n",
    "        \"Channels\": rec[\"n_channels\"],\n",
    "        \"Beats Detected\": len(rec[\"annotations\"])\n",
    "    })\n",
    "# Extracted metadata is stored as a DataFrame for better visualization\n",
    "df_summary = pd.DataFrame(summary)\n",
    "print(df_summary)\n"
   ]
  },
  {
   "cell_type": "markdown",
   "id": "9dc4bd33",
   "metadata": {},
   "source": [
    "Create summary table"
   ]
  },
  {
   "cell_type": "code",
   "execution_count": 1,
   "id": "d1764540",
   "metadata": {},
   "outputs": [
    {
     "ename": "NameError",
     "evalue": "name 'all_records' is not defined",
     "output_type": "error",
     "traceback": [
      "\u001b[31m---------------------------------------------------------------------------\u001b[39m",
      "\u001b[31mNameError\u001b[39m                                 Traceback (most recent call last)",
      "\u001b[36mCell\u001b[39m\u001b[36m \u001b[39m\u001b[32mIn[1]\u001b[39m\u001b[32m, line 5\u001b[39m\n\u001b[32m      1\u001b[39m \u001b[38;5;28;01mimport\u001b[39;00m\u001b[38;5;250m \u001b[39m\u001b[34;01mpandas\u001b[39;00m\u001b[38;5;250m \u001b[39m\u001b[38;5;28;01mas\u001b[39;00m\u001b[38;5;250m \u001b[39m\u001b[34;01mpd\u001b[39;00m\n\u001b[32m      3\u001b[39m summary = []\n\u001b[32m----> \u001b[39m\u001b[32m5\u001b[39m \u001b[38;5;28;01mfor\u001b[39;00m rec \u001b[38;5;129;01min\u001b[39;00m \u001b[43mall_records\u001b[49m:\n\u001b[32m      6\u001b[39m     summary.append({\n\u001b[32m      7\u001b[39m         \u001b[33m\"\u001b[39m\u001b[33mID\u001b[39m\u001b[33m\"\u001b[39m: rec[\u001b[33m\"\u001b[39m\u001b[33mrecord_id\u001b[39m\u001b[33m\"\u001b[39m],\n\u001b[32m      8\u001b[39m         \u001b[33m\"\u001b[39m\u001b[33mSampling Rate (Hz)\u001b[39m\u001b[33m\"\u001b[39m: rec[\u001b[33m\"\u001b[39m\u001b[33mfs\u001b[39m\u001b[33m\"\u001b[39m],\n\u001b[32m   (...)\u001b[39m\u001b[32m     12\u001b[39m         \u001b[33m\"\u001b[39m\u001b[33mBeats Detected\u001b[39m\u001b[33m\"\u001b[39m: \u001b[38;5;28mlen\u001b[39m(rec[\u001b[33m\"\u001b[39m\u001b[33mannotations\u001b[39m\u001b[33m\"\u001b[39m])\n\u001b[32m     13\u001b[39m     })\n\u001b[32m     15\u001b[39m df_summary = pd.DataFrame(summary)\n",
      "\u001b[31mNameError\u001b[39m: name 'all_records' is not defined"
     ]
    }
   ],
   "source": [
    "import pandas as pd\n",
    "\n",
    "summary = []\n",
    "\n",
    "for rec in all_records:\n",
    "    summary.append({\n",
    "        \"ID\": rec[\"record_id\"],\n",
    "        \"Sampling Rate (Hz)\": rec[\"fs\"],\n",
    "        \"Signal Length\": rec[\"sig_len\"],\n",
    "        \"Channels\": rec[\"n_sig\"],\n",
    "        \"Channel Names\": \", \".join(rec[\"sig_name\"]),\n",
    "        \"Beats Detected\": len(rec[\"annotations\"])\n",
    "    })\n",
    "\n",
    "df_summary = pd.DataFrame(summary)\n",
    "df_summary.head()\n"
   ]
  }
 ],
 "metadata": {
  "kernelspec": {
   "display_name": "Python 3",
   "language": "python",
   "name": "python3"
  },
  "language_info": {
   "codemirror_mode": {
    "name": "ipython",
    "version": 3
   },
   "file_extension": ".py",
   "mimetype": "text/x-python",
   "name": "python",
   "nbconvert_exporter": "python",
   "pygments_lexer": "ipython3",
   "version": "3.13.6"
  }
 },
 "nbformat": 4,
 "nbformat_minor": 5
}
