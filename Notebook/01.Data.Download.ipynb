{
 "cells": [
  {
   "cell_type": "code",
   "execution_count": 4,
   "id": "dbfdf02a",
   "metadata": {},
   "outputs": [
    {
     "name": "stdout",
     "output_type": "stream",
     "text": [
      " ECG signal and annotations saved successfully!\n"
     ]
    }
   ],
   "source": [
    "import os\n",
    "import wfdb\n",
    "\n",
    "# Step 1: Set the save directory (use raw string or forward slashes to avoid escape errors)\n",
    "save_dir = \"../Data\"\n",
    "\n",
    "# step 2: Read the existing ECG signal and annotation (example record '100' from PhysioNet MIT-BIH)\n",
    "record = wfdb.rdrecord('100', pn_dir='mitdb')\n",
    "annotation = wfdb.rdann('100', pn_dir='mitdb', extension='atr')\n",
    "\n",
    "# Step 3: Set the record name (must be only alphanumeric or hyphens)\n",
    "record_name = '100'\n",
    "\n",
    "# Step 4: Save the ECG signal (DAT and HEA files)\n",
    "wfdb.wrsamp(\n",
    "    record_name=record_name,         # only alphanumeric or hyphen\n",
    "    fs=record.fs,\n",
    "    units=record.units,\n",
    "    sig_name=record.sig_name,\n",
    "    p_signal=record.p_signal,\n",
    "    write_dir=save_dir               # specify directory separately\n",
    ")\n",
    "\n",
    "# Step 5: Save annotations (ATR file)\n",
    "wfdb.wrann(\n",
    "    record_name=record_name,\n",
    "    extension='atr',\n",
    "    sample=annotation.sample,\n",
    "    symbol=annotation.symbol,\n",
    "    write_dir=save_dir   )           \n",
    "\n",
    "print(\" ECG signal and annotations saved successfully!\")\n"
   ]
  }
 ],
 "metadata": {
  "kernelspec": {
   "display_name": "Python 3",
   "language": "python",
   "name": "python3"
  },
  "language_info": {
   "codemirror_mode": {
    "name": "ipython",
    "version": 3
   },
   "file_extension": ".py",
   "mimetype": "text/x-python",
   "name": "python",
   "nbconvert_exporter": "python",
   "pygments_lexer": "ipython3",
   "version": "3.13.6"
  }
 },
 "nbformat": 4,
 "nbformat_minor": 5
}
