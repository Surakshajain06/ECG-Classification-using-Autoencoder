{
 "cells": [
  {
   "cell_type": "code",
   "execution_count": 5,
   "id": "8c4f4353",
   "metadata": {},
   "outputs": [
    {
     "name": "stdout",
     "output_type": "stream",
     "text": [
      "p_signal shape: (650000, 2)\n",
      "p_signal shape: (650000, 2)\n",
      "fs: 360\n",
      "ann samples: 2274\n",
      "example symbols: ['+', 'A', 'N', 'V']\n"
     ]
    }
   ],
   "source": [
    "import wfdb\n",
    "import wfdb\n",
    "\n",
    "record = wfdb.rdrecord(\"Data/100\")   # no .dat\n",
    "ann = wfdb.rdann(\"Data/100\", \"atr\")\n",
    "\n",
    "print(\"p_signal shape:\", record.p_signal.shape)\n",
    "\n",
    "\n",
    "print(\"p_signal shape:\", record.p_signal.shape)   # (n_samples, n_channels)\n",
    "print(\"fs:\", record.fs)\n",
    "print(\"ann samples:\", len(ann.sample))\n",
    "print(\"example symbols:\", sorted(set(ann.symbol))[:20])\n"
   ]
  }
 ],
 "metadata": {
  "kernelspec": {
   "display_name": "Python 3",
   "language": "python",
   "name": "python3"
  },
  "language_info": {
   "codemirror_mode": {
    "name": "ipython",
    "version": 3
   },
   "file_extension": ".py",
   "mimetype": "text/x-python",
   "name": "python",
   "nbconvert_exporter": "python",
   "pygments_lexer": "ipython3",
   "version": "3.13.6"
  }
 },
 "nbformat": 4,
 "nbformat_minor": 5
}
